{
  "nbformat": 4,
  "nbformat_minor": 0,
  "metadata": {
    "colab": {
      "provenance": []
    },
    "kernelspec": {
      "name": "python3",
      "display_name": "Python 3"
    },
    "language_info": {
      "name": "python"
    }
  },
  "cells": [
    {
      "cell_type": "code",
      "source": [
        "pip install pymongo"
      ],
      "metadata": {
        "colab": {
          "base_uri": "https://localhost:8080/"
        },
        "id": "szLUC5hJ88mW",
        "outputId": "70016998-54a1-4458-b354-b76433832403"
      },
      "execution_count": null,
      "outputs": [
        {
          "output_type": "stream",
          "name": "stdout",
          "text": [
            "Collecting pymongo\n",
            "  Downloading pymongo-4.7.2-cp310-cp310-manylinux_2_17_x86_64.manylinux2014_x86_64.whl (670 kB)\n",
            "\u001b[2K     \u001b[90m━━━━━━━━━━━━━━━━━━━━━━━━━━━━━━━━━━━━━━━━\u001b[0m \u001b[32m670.0/670.0 kB\u001b[0m \u001b[31m5.7 MB/s\u001b[0m eta \u001b[36m0:00:00\u001b[0m\n",
            "\u001b[?25hCollecting dnspython<3.0.0,>=1.16.0 (from pymongo)\n",
            "  Downloading dnspython-2.6.1-py3-none-any.whl (307 kB)\n",
            "\u001b[2K     \u001b[90m━━━━━━━━━━━━━━━━━━━━━━━━━━━━━━━━━━━━━━━━\u001b[0m \u001b[32m307.7/307.7 kB\u001b[0m \u001b[31m17.0 MB/s\u001b[0m eta \u001b[36m0:00:00\u001b[0m\n",
            "\u001b[?25hInstalling collected packages: dnspython, pymongo\n",
            "Successfully installed dnspython-2.6.1 pymongo-4.7.2\n"
          ]
        }
      ]
    },
    {
      "cell_type": "code",
      "execution_count": null,
      "metadata": {
        "id": "AjxbOIK48v3U"
      },
      "outputs": [],
      "source": [
        "import pymongo"
      ]
    },
    {
      "cell_type": "code",
      "source": [
        "client=pymongo.MongoClient(\"Paste_MongoDB_URL\")\n",
        "db=client.sample_mflix\n",
        "collection=db.movies"
      ],
      "metadata": {
        "id": "76OeZy-z86Dn"
      },
      "execution_count": null,
      "outputs": []
    },
    {
      "cell_type": "code",
      "source": [
        "items1=collection.find().limit(5)\n",
        "items1"
      ],
      "metadata": {
        "colab": {
          "base_uri": "https://localhost:8080/"
        },
        "id": "mDHBY0zt-sPe",
        "outputId": "f62a17ee-e03c-43e4-edb7-9822c1791a43"
      },
      "execution_count": null,
      "outputs": [
        {
          "output_type": "execute_result",
          "data": {
            "text/plain": [
              "<pymongo.cursor.Cursor at 0x78b7633d2710>"
            ]
          },
          "metadata": {},
          "execution_count": 7
        }
      ]
    },
    {
      "cell_type": "code",
      "source": [
        "for item in items1:\n",
        "  print(item)"
      ],
      "metadata": {
        "colab": {
          "base_uri": "https://localhost:8080/"
        },
        "id": "m7ZJHuez-0AY",
        "outputId": "3507d8fb-e5a9-4904-83be-40de443b964d"
      },
      "execution_count": null,
      "outputs": [
        {
          "output_type": "stream",
          "name": "stdout",
          "text": [
            "{'_id': ObjectId('573a1390f29313caabcd42e8'), 'plot': 'A group of bandits stage a brazen train hold-up, only to find a determined posse hot on their heels.', 'genres': ['Short', 'Western'], 'runtime': 11, 'cast': ['A.C. Abadie', \"Gilbert M. 'Broncho Billy' Anderson\", 'George Barnes', 'Justus D. Barnes'], 'poster': 'https://m.media-amazon.com/images/M/MV5BMTU3NjE5NzYtYTYyNS00MDVmLWIwYjgtMmYwYWIxZDYyNzU2XkEyXkFqcGdeQXVyNzQzNzQxNzI@._V1_SY1000_SX677_AL_.jpg', 'title': 'The Great Train Robbery', 'fullplot': \"Among the earliest existing films in American cinema - notable as the first film that presented a narrative story to tell - it depicts a group of cowboy outlaws who hold up a train and rob the passengers. They are then pursued by a Sheriff's posse. Several scenes have color included - all hand tinted.\", 'languages': ['English'], 'released': datetime.datetime(1903, 12, 1, 0, 0), 'directors': ['Edwin S. Porter'], 'rated': 'TV-G', 'awards': {'wins': 1, 'nominations': 0, 'text': '1 win.'}, 'lastupdated': '2015-08-13 00:27:59.177000000', 'year': 1903, 'imdb': {'rating': 7.4, 'votes': 9847, 'id': 439}, 'countries': ['USA'], 'type': 'movie', 'tomatoes': {'viewer': {'rating': 3.7, 'numReviews': 2559, 'meter': 75}, 'fresh': 6, 'critic': {'rating': 7.6, 'numReviews': 6, 'meter': 100}, 'rotten': 0, 'lastUpdated': datetime.datetime(2015, 8, 8, 19, 16, 10)}, 'num_mflix_comments': 0}\n",
            "{'_id': ObjectId('573a1390f29313caabcd446f'), 'plot': \"A greedy tycoon decides, on a whim, to corner the world market in wheat. This doubles the price of bread, forcing the grain's producers into charity lines and further into poverty. The film...\", 'genres': ['Short', 'Drama'], 'runtime': 14, 'cast': ['Frank Powell', 'Grace Henderson', 'James Kirkwood', 'Linda Arvidson'], 'num_mflix_comments': 1, 'title': 'A Corner in Wheat', 'fullplot': \"A greedy tycoon decides, on a whim, to corner the world market in wheat. This doubles the price of bread, forcing the grain's producers into charity lines and further into poverty. The film continues to contrast the ironic differences between the lives of those who work to grow the wheat and the life of the man who dabbles in its sale for profit.\", 'languages': ['English'], 'released': datetime.datetime(1909, 12, 13, 0, 0), 'directors': ['D.W. Griffith'], 'rated': 'G', 'awards': {'wins': 1, 'nominations': 0, 'text': '1 win.'}, 'lastupdated': '2015-08-13 00:46:30.660000000', 'year': 1909, 'imdb': {'rating': 6.6, 'votes': 1375, 'id': 832}, 'countries': ['USA'], 'type': 'movie', 'tomatoes': {'viewer': {'rating': 3.6, 'numReviews': 109, 'meter': 73}, 'lastUpdated': datetime.datetime(2015, 5, 11, 18, 36, 53)}}\n",
            "{'_id': ObjectId('573a1390f29313caabcd4803'), 'plot': 'Cartoon figures announce, via comic strip balloons, that they will move - and move they do, in a wildly exaggerated style.', 'genres': ['Animation', 'Short', 'Comedy'], 'runtime': 7, 'cast': ['Winsor McCay'], 'num_mflix_comments': 0, 'poster': 'https://m.media-amazon.com/images/M/MV5BYzg2NjNhNTctMjUxMi00ZWU4LWI3ZjYtNTI0NTQxNThjZTk2XkEyXkFqcGdeQXVyNzg5OTk2OA@@._V1_SY1000_SX677_AL_.jpg', 'title': 'Winsor McCay, the Famous Cartoonist of the N.Y. Herald and His Moving Comics', 'fullplot': 'Cartoonist Winsor McCay agrees to create a large set of drawings that will be photographed and made into a motion picture. The job requires plenty of drawing supplies, and the cartoonist must also overcome some mishaps caused by an assistant. Finally, the work is done, and everyone can see the resulting animated picture.', 'languages': ['English'], 'released': datetime.datetime(1911, 4, 8, 0, 0), 'directors': ['Winsor McCay', 'J. Stuart Blackton'], 'writers': ['Winsor McCay (comic strip \"Little Nemo in Slumberland\")', 'Winsor McCay (screenplay)'], 'awards': {'wins': 1, 'nominations': 0, 'text': '1 win.'}, 'lastupdated': '2015-08-29 01:09:03.030000000', 'year': 1911, 'imdb': {'rating': 7.3, 'votes': 1034, 'id': 1737}, 'countries': ['USA'], 'type': 'movie', 'tomatoes': {'viewer': {'rating': 3.4, 'numReviews': 89, 'meter': 47}, 'lastUpdated': datetime.datetime(2015, 8, 20, 18, 51, 24)}}\n",
            "{'_id': ObjectId('573a1390f29313caabcd4eaf'), 'plot': 'A woman, with the aid of her police officer sweetheart, endeavors to uncover the prostitution ring that has kidnapped her sister, and the philanthropist who secretly runs it.', 'genres': ['Crime', 'Drama'], 'runtime': 88, 'cast': ['Jane Gail', 'Ethel Grandin', 'William H. Turner', 'Matt Moore'], 'num_mflix_comments': 1, 'poster': 'https://m.media-amazon.com/images/M/MV5BYzk0YWQzMGYtYTM5MC00NjM2LWE5YzYtMjgyNDVhZDg1N2YzXkEyXkFqcGdeQXVyMzE0MjY5ODA@._V1_SY1000_SX677_AL_.jpg', 'title': 'Traffic in Souls', 'lastupdated': '2015-09-15 02:07:14.247000000', 'languages': ['English'], 'released': datetime.datetime(1913, 11, 24, 0, 0), 'directors': ['George Loane Tucker'], 'rated': 'TV-PG', 'awards': {'wins': 1, 'nominations': 0, 'text': '1 win.'}, 'year': 1913, 'imdb': {'rating': 6.0, 'votes': 371, 'id': 3471}, 'countries': ['USA'], 'type': 'movie', 'tomatoes': {'viewer': {'rating': 3.0, 'numReviews': 85, 'meter': 57}, 'dvd': datetime.datetime(2008, 8, 26, 0, 0), 'lastUpdated': datetime.datetime(2015, 8, 10, 18, 33, 55)}}\n",
            "{'_id': ObjectId('573a1390f29313caabcd50e5'), 'plot': 'The cartoonist, Winsor McCay, brings the Dinosaurus back to life in the figure of his latest creation, Gertie the Dinosaur.', 'genres': ['Animation', 'Short', 'Comedy'], 'runtime': 12, 'cast': ['Winsor McCay', 'George McManus', 'Roy L. McCardell'], 'num_mflix_comments': 0, 'poster': 'https://m.media-amazon.com/images/M/MV5BMTQxNzI4ODQ3NF5BMl5BanBnXkFtZTgwNzY5NzMwMjE@._V1_SY1000_SX677_AL_.jpg', 'title': 'Gertie the Dinosaur', 'fullplot': 'Winsor Z. McCay bets another cartoonist that he can animate a dinosaur. So he draws a big friendly herbivore called Gertie. Then he get into his own picture. Gertie walks through the picture, eats a tree, meets her creator, and takes him carefully on her back for a ride.', 'languages': ['English'], 'released': datetime.datetime(1914, 9, 15, 0, 0), 'directors': ['Winsor McCay'], 'writers': ['Winsor McCay'], 'awards': {'wins': 1, 'nominations': 0, 'text': '1 win.'}, 'lastupdated': '2015-08-18 01:03:15.313000000', 'year': 1914, 'imdb': {'rating': 7.3, 'votes': 1837, 'id': 4008}, 'countries': ['USA'], 'type': 'movie', 'tomatoes': {'viewer': {'rating': 3.7, 'numReviews': 29}, 'lastUpdated': datetime.datetime(2015, 8, 10, 19, 20, 3)}}\n"
          ]
        }
      ]
    },
    {
      "cell_type": "code",
      "source": [
        "import requests"
      ],
      "metadata": {
        "id": "6sQo8nBb_BG_"
      },
      "execution_count": null,
      "outputs": []
    },
    {
      "cell_type": "code",
      "source": [
        "hf_token=\"huggin_face_token\"\n",
        "embedding_url=\"https://api-inference.huggingface.co/pipeline/feature-extraction/sentence-transformers/all-MiniLM-L6-v2\"\n",
        "\n",
        "def generate_embedding(text):\n",
        "  response=requests.post( embedding_url,\n",
        "                         headers={\"Authorization\": f\"Bearer {hf_token}\"},\n",
        "                         json={\"inputs\":text})\n",
        "  if response.status_code!=200:\n",
        "    raise ValueError(f\"Request failed within the status code {response.status_code}:{response.text}\")\n",
        "  return response.json()\n",
        "\n",
        "print(generate_embedding(\"Hello World!\"))"
      ],
      "metadata": {
        "colab": {
          "base_uri": "https://localhost:8080/"
        },
        "id": "s9edd1cxq1L2",
        "outputId": "a2cc2a27-2661-4db1-dc9d-bcff0945454d"
      },
      "execution_count": null,
      "outputs": [
        {
          "output_type": "stream",
          "name": "stdout",
          "text": [
            "[-0.020386826246976852, 0.025280892848968506, -0.0005662075709551573, 0.01161543931812048, -0.03798838332295418, -0.1199813112616539, 0.041709478944540024, -0.020857160910964012, -0.0590067058801651, 0.024232449010014534, 0.062120165675878525, 0.06767994910478592, 0.03310021385550499, -0.010369363240897655, -0.031215645372867584, -0.032733254134655, -0.0021118083968758583, 0.009261918254196644, -0.12476454675197601, 0.011236821301281452, 0.039045341312885284, 0.05440257862210274, -0.00282548856921494, 0.04455629363656044, -0.08542020618915558, -0.02287374623119831, 0.03914057835936546, 0.036046870052814484, -0.03212675824761391, -0.06425870209932327, 0.05812910199165344, 0.046690814197063446, 0.0806155875325203, -0.007734257262200117, -0.022083153948187828, 0.06713154911994934, -0.04504144564270973, -0.1021212711930275, 0.0012644159141927958, 0.04680195823311806, 0.026395881548523903, -0.06990952789783478, -0.04453347995877266, -0.006901935674250126, 0.01928866095840931, 0.020590808242559433, 0.006518070586025715, 0.035493940114974976, 0.1039331778883934, 0.01750369183719158, -0.042942870408296585, -0.057037293910980225, -0.011423476971685886, 0.009236696176230907, 0.045821547508239746, 0.007003630977123976, 0.024210074916481972, -0.06064571067690849, -0.014943965710699558, -0.03051583655178547, -0.06836123764514923, 0.05706866830587387, -0.03227077051997185, 0.04119705781340599, 0.09017679840326309, -0.07689842581748962, -0.022328881546854973, 0.0260913223028183, -0.05775449052453041, -0.06050315499305725, -0.04382950812578201, 0.010114483535289764, 0.03421919420361519, 0.0757397785782814, -0.045189112424850464, 0.005837624426931143, 0.01849079318344593, -0.0018646265380084515, 0.017706023529171944, 0.05494634062051773, 0.06722182035446167, -0.1000807136297226, 0.01773887686431408, 0.04324395954608917, 0.010778197087347507, -0.014706515707075596, -0.013241032138466835, -0.0017822571098804474, -0.04542694240808487, -0.03418901562690735, -0.14636529982089996, -0.01115789171308279, -0.011241834610700607, 0.011740665882825851, -0.08864285796880722, -0.028394149616360664, 0.07532475143671036, -0.01844583824276924, -0.17038746178150177, 0.15587182343006134, 0.02292141132056713, 0.046667203307151794, 0.040010806173086166, 0.023754972964525223, 0.04980280622839928, 0.030321665108203888, 0.0003741762484423816, 0.0695725753903389, -0.022312620654702187, -0.027472740039229393, 0.006084003020077944, -0.0485324002802372, 0.049238767474889755, -0.007612201850861311, 0.0691770687699318, -0.07174887508153915, -0.02025722712278366, 0.014374662190675735, -0.0302368625998497, 0.004180478397756815, 0.05348912626504898, -0.05887244641780853, 0.023056622594594955, 0.013102778233587742, 0.010882052592933178, 0.023222340270876884, 0.028361234813928604, -3.8436655911232865e-33, 0.04356621578335762, -0.0035945523995906115, 0.042123086750507355, 0.12318187952041626, 0.017473328858613968, 0.009427348151803017, -0.09451461583375931, -0.021238436922430992, 0.03426392376422882, 0.025959132239222527, 0.02806113101541996, 0.012698488309979439, -0.046178001910448074, 0.030305469408631325, -0.04523101821541786, 0.11220850795507431, -0.09135954082012177, -0.013798569329082966, 0.0258152037858963, 0.08335629105567932, -0.07693810760974884, -0.010359509848058224, 0.009555518627166748, 0.08872871845960617, -0.009140659123659134, 0.008417367935180664, 0.010792151093482971, -0.09071642905473709, 0.09623943269252777, 0.007239800877869129, -0.03825899958610535, -0.051117442548274994, 0.020446255803108215, 0.015775512903928757, -0.005840196739882231, 0.01115553267300129, -0.0071912119165062904, -0.07329273223876953, -0.07283005863428116, -0.006110428366810083, -0.05931406468153, 0.045463770627975464, 0.04360099509358406, -0.007337700109928846, -0.025582557544112206, -0.03440641239285469, 0.02559279091656208, 0.01813693158328533, 0.0402529239654541, 0.03997465968132019, -0.04333768039941788, 0.008319418877363205, -0.038836318999528885, 0.05585159733891487, -0.010561097413301468, 0.016997400671243668, 0.04742540046572685, -0.04800353944301605, -0.013104761950671673, 0.04660717025399208, -0.00391211174428463, 0.1024276539683342, -0.04255155846476555, -0.028219841420650482, -0.008180642500519753, -0.01885269768536091, 0.05203329399228096, 0.033868033438920975, 0.05951099842786789, 0.0040615699253976345, -0.01956751011312008, 0.026742637157440186, 0.020931772887706757, 0.021920427680015564, 0.012750783003866673, 0.05398516356945038, 0.052067968994379044, -0.0031074301805347204, 0.02487248368561268, -0.07944537699222565, 0.028617750853300095, -0.0007746040937490761, -0.0033818373922258615, -0.0517873615026474, 0.09358308464288712, 0.018984520807862282, -0.00958261825144291, -0.08565746247768402, -0.017498185858130455, -0.0041583869606256485, -0.06506018340587616, 0.059126146137714386, 0.03576969727873802, -0.005036755930632353, -0.08909006416797638, 2.5757048342844023e-33, 0.13979333639144897, 0.01751365326344967, -0.054524362087249756, -0.06710037589073181, -0.010243936441838741, -0.03230325132608414, -0.07818865031003952, 0.14000576734542847, -0.07843432575464249, 0.047436945140361786, 0.021780407056212425, 0.02153979428112507, 0.12622766196727753, 0.025801118463277817, 0.022561760619282722, -0.015236134640872478, 0.13175280392169952, 0.014995948411524296, 0.014494279399514198, -0.0018084016628563404, -0.013143747113645077, -0.049164462834596634, -0.06190982088446617, 0.021932419389486313, -0.022566016763448715, 0.024125894531607628, 0.04778727516531944, 0.0013614861527457833, -0.12093906849622726, 0.013258898630738258, -0.015382437035441399, 0.02843938022851944, -0.031059609726071358, -0.014658465050160885, -0.016496168449521065, 0.023634226992726326, -0.09657479077577591, -0.03889475762844086, -0.029356466606259346, -0.031149495393037796, -0.04675937071442604, 0.010851370170712471, -0.006681160535663366, 0.030533568933606148, -0.10486800223588943, -0.0056226663291454315, -0.03426206856966019, 0.014524418860673904, -0.036871910095214844, -0.03581423684954643, -0.09492848068475723, -0.05121387913823128, 0.08636806905269623, -0.027694692835211754, -0.032550495117902756, 0.03351931646466255, -0.023608149960637093, -0.0033291743602603674, 0.038486890494823456, -0.011646290309727192, 0.012732219882309437, 0.05946172773838043, 0.0345153845846653, 0.08603373169898987, 0.02522527612745762, -0.03410425782203674, 0.013709338381886482, 0.015575754456222057, 0.030829859897494316, -0.018169017508625984, 0.007548488676548004, 0.007677966263145208, -0.020997269079089165, -0.016836505383253098, -0.03218561038374901, 0.06366591155529022, 0.003027725499123335, -0.01919618248939514, 0.017967145889997482, 0.03070325404405594, -0.010722135193645954, 0.05674063414335251, 0.023267952725291252, 0.029091455042362213, 0.007758189924061298, 0.06784670799970627, 0.08166716992855072, 0.04750453680753708, -0.026240667328238487, -0.042831823229789734, -0.009907559491693974, 0.006457698997110128, 0.017302529886364937, 0.03067111037671566, -0.0380118191242218, -1.6864364127400222e-08, -0.0877477377653122, 0.03914771229028702, -0.007313729263842106, 0.055220142006874084, 0.030428703874349594, 0.018359843641519547, -0.08776684105396271, -0.067340187728405, -0.0747460424900055, -0.0093070138245821, 0.03774431347846985, 0.13193343579769135, -0.08082909882068634, 0.013214126229286194, 0.04857500642538071, 0.09028726816177368, -0.029366280883550644, 0.039682965725660324, -0.03413604572415352, 0.003519325749948621, -0.011343886144459248, 0.00933921243995428, 0.011233065277338028, -0.06465619057416916, 0.03457626327872276, -0.09496653825044632, -0.007475654594600201, 0.003689540782943368, 0.010514275170862675, -0.06667257100343704, 0.051605042070150375, 0.10477931797504425, -0.054786402732133865, 0.02151920460164547, -0.08572056144475937, -0.027919674292206764, 0.02723763696849346, 0.09629364311695099, 0.06709321588277817, -0.07181661576032639, -0.0975043848156929, 0.044307876378297806, -0.05396276339888573, -0.10748163610696793, -0.05498870462179184, 0.03482295945286751, 0.06672004610300064, -0.05602458864450455, 0.021751753985881805, -0.06315222382545471, -0.06730659306049347, 0.03782232478260994, 0.07897451519966125, 0.002572612836956978, 0.10580902546644211, 0.09685949981212616, 0.047380004078149796, 0.03066207654774189, -0.008867062628269196, 0.060808900743722916, 0.030900880694389343, -0.03065250627696514, 0.03755694627761841, 0.03742792084813118]\n"
          ]
        }
      ]
    },
    {
      "cell_type": "code",
      "source": [
        "for doc in collection.find({'plot':{\"$exists\": True}}).limit(50):\n",
        "  doc['plot_embedding_hf']=generate_embedding(doc['plot'])\n",
        "  collection.replace_one({'_id':doc['_id']},doc)"
      ],
      "metadata": {
        "id": "q7Lc6ndysYVt"
      },
      "execution_count": null,
      "outputs": []
    },
    {
      "cell_type": "code",
      "source": [
        "query = \"british\"\n",
        "\n",
        "results = collection.aggregate([\n",
        "  {\"$vectorSearch\": {\n",
        "    \"queryVector\": generate_embedding(query),\n",
        "    \"path\": \"plot_embedding_hf\",\n",
        "    \"numCandidates\": 100,\n",
        "    \"limit\": 4,\n",
        "    \"index\": \"semantic_plot\",\n",
        "      }}\n",
        "]);\n",
        "\n",
        "for document in results:\n",
        "    print(f'Movie Name: {document[\"title\"]},\\nMovie Plot: {document[\"plot\"]}\\n')"
      ],
      "metadata": {
        "colab": {
          "base_uri": "https://localhost:8080/"
        },
        "id": "ZEtxLGh1sq_f",
        "outputId": "7f260132-d02d-4413-e191-d9132287f60f"
      },
      "execution_count": null,
      "outputs": [
        {
          "output_type": "stream",
          "name": "stdout",
          "text": [
            "Movie Name: Robin Hood,\n",
            "Movie Plot: A nobleman becomes the vigilante Robin Hood who protects the oppressed English people from the tyrannical Prince John.\n",
            "\n",
            "Movie Name: Beau Geste,\n",
            "Movie Plot: Michael \"Beau\" Geste leaves England in disgrace and joins the infamous French Foreign Legion. He is reunited with his two brothers in North Africa, where they face greater danger from their...\n",
            "\n",
            "Movie Name: The Strong Man,\n",
            "Movie Plot: A meek Belgian soldier (Harry Langdon) fighting in World War I receives penpal letters and a photo from \"Mary Brown\", an American girl he has never met. He becomes infatuated with her by ...\n",
            "\n",
            "Movie Name: The Four Horsemen of the Apocalypse,\n",
            "Movie Plot: An extended family split up in France and Germany find themselves on opposing sides of the battlefield during World War I.\n",
            "\n"
          ]
        }
      ]
    },
    {
      "cell_type": "code",
      "source": [],
      "metadata": {
        "id": "f5HmrM_-2TzX"
      },
      "execution_count": null,
      "outputs": []
    }
  ]
}